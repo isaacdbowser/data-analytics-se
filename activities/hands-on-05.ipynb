{
 "cells": [
  {
   "cell_type": "code",
   "execution_count": 59,
   "metadata": {},
   "outputs": [],
   "source": [
    "import numpy as np\n",
    "import matplotlib.pyplot as plt\n",
    "%matplotlib inline\n",
    "import seaborn as sns\n",
    "sns.set_context('paper')"
   ]
  },
  {
   "cell_type": "markdown",
   "metadata": {},
   "source": [
    "# Hands-On Activity 5: Collections of Random Variables\n",
    "\n",
    "## Objectives\n",
    "\n",
    "+ To practice with the joint probability mass function.\n",
    "\n",
    "## Joint probability mass function of two discrete random variables\n",
    "\n",
    "Take two discrete random variabls $X$ and $Y$.\n",
    "Say that $X$ takes $5$ values, $0,1,\\dots,4$, and $Y$ takes $10$ values, $0,1,\\dots,9$.\n",
    "Then, you can think of the joint probability mass function of $X$ and $Y$ as the $5\\times 10$ matrix:\n",
    "$$\n",
    "A_{ij} = p(X=i, Y=j).\n",
    "$$\n",
    "Let's make up such a matrix to play with:"
   ]
  },
  {
   "cell_type": "code",
   "execution_count": 71,
   "metadata": {},
   "outputs": [
    {
     "name": "stdout",
     "output_type": "stream",
     "text": [
      "[[0.92961609 0.31637555 0.18391881 0.20456028 0.56772503 0.5955447\n",
      "  0.96451452 0.6531771  0.74890664 0.65356987]\n",
      " [0.74771481 0.96130674 0.0083883  0.10644438 0.29870371 0.65641118\n",
      "  0.80981255 0.87217591 0.9646476  0.72368535]\n",
      " [0.64247533 0.71745362 0.46759901 0.32558468 0.43964461 0.72968908\n",
      "  0.99401459 0.67687371 0.79082252 0.17091426]\n",
      " [0.02684928 0.80037024 0.90372254 0.02467621 0.49174732 0.52625517\n",
      "  0.59636601 0.05195755 0.89508953 0.72826618]\n",
      " [0.81835001 0.50022275 0.81018941 0.09596853 0.21895004 0.25871906\n",
      "  0.46810575 0.4593732  0.70950978 0.17805301]]\n"
     ]
    }
   ],
   "source": [
    "# This is to make sure that we all get the same results\n",
    "np.random.seed(12345)\n",
    "# First I draw a matrix with random entries in [0,1]\n",
    "A = np.random.rand(5, 10)\n",
    "print(A)"
   ]
  },
  {
   "cell_type": "code",
   "execution_count": 76,
   "metadata": {},
   "outputs": [
    {
     "name": "stdout",
     "output_type": "stream",
     "text": [
      "A =  [[0.03382266 0.01151084 0.0066916  0.00744261 0.0206558  0.02166798\n",
      "  0.03509238 0.02376485 0.02724782 0.02377914]\n",
      " [0.02720446 0.03497567 0.0003052  0.00387282 0.01086788 0.02388251\n",
      "  0.02946379 0.03173278 0.03509722 0.02633018]\n",
      " [0.02337548 0.02610345 0.01701287 0.0118459  0.01599579 0.02654862\n",
      "  0.0361657  0.02462701 0.02877286 0.00621845]\n",
      " [0.00097687 0.02912024 0.03288056 0.00089781 0.01789147 0.01914699\n",
      "  0.02169786 0.0018904  0.03256646 0.02649685]\n",
      " [0.02977441 0.01819984 0.0294775  0.00349167 0.00796616 0.0094131\n",
      "  0.01703131 0.01671359 0.02581442 0.00647819]]\n",
      "Sum of A_ij = 1.00\n"
     ]
    }
   ],
   "source": [
    "# And then I scale it so that the sum of all elements is one:\n",
    "Anorm = A / np.sum(A)\n",
    "print('A = ', Anorm)\n",
    "print('Sum of A_ij = {0:1.2f}'.format(np.sum(Anorm)))"
   ]
  },
  {
   "cell_type": "markdown",
   "metadata": {},
   "source": [
    "Now we have a matrix that corresponds to a proper joint probability mass function."
   ]
  },
  {
   "cell_type": "markdown",
   "metadata": {},
   "source": [
    "Okay, this is great we can sample from this. Let's find now the probability mass function of just $X$.\n",
    "Remember that you need to marginalize:\n",
    "$$\n",
    "p(x) = \\sum_{y} p(x,y) = \\sum_{y} A_{xy}.\n",
    "$$\n",
    "This is easy"
   ]
  },
  {
   "cell_type": "code",
   "execution_count": 18,
   "metadata": {},
   "outputs": [
    {
     "name": "stdout",
     "output_type": "stream",
     "text": [
      "pmf of just X: [0.21167568 0.2237325  0.21666614 0.1835655  0.16436018]\n"
     ]
    }
   ],
   "source": [
    "p_x = np.sum(A, axis=1) # Axis = 1 tells sum to sum only the second axis\n",
    "print('pmf of just X:', p_x)"
   ]
  },
  {
   "cell_type": "code",
   "execution_count": 19,
   "metadata": {},
   "outputs": [
    {
     "name": "stdout",
     "output_type": "stream",
     "text": [
      "sum of p_x = 1.00\n"
     ]
    }
   ],
   "source": [
    "# Verify that this is indeed a pmf:\n",
    "print('sum of p_x = {0:1.2f}'.format(np.sum(p_x)))"
   ]
  },
  {
   "cell_type": "markdown",
   "metadata": {},
   "source": [
    "With this you can easily find the expectation of $X$:"
   ]
  },
  {
   "cell_type": "code",
   "execution_count": 20,
   "metadata": {},
   "outputs": [
    {
     "name": "stdout",
     "output_type": "stream",
     "text": [
      "E[X] = 1.87\n"
     ]
    }
   ],
   "source": [
    "E_X = np.sum(np.arange(5) * p_x)\n",
    "print('E[X] = {0:1.2f}'.format(E_X))"
   ]
  },
  {
   "cell_type": "markdown",
   "metadata": {},
   "source": [
    "Similarly for the variance of X:"
   ]
  },
  {
   "cell_type": "code",
   "execution_count": 21,
   "metadata": {},
   "outputs": [
    {
     "name": "stdout",
     "output_type": "stream",
     "text": [
      "V[X] = 1.89\n"
     ]
    }
   ],
   "source": [
    "E_X2 = np.sum(np.arange(5) ** 2 * p_x)\n",
    "V_X = E_X2 - E_X ** 2\n",
    "print('V[X] = {0:1.2f}'.format(V_X))"
   ]
  },
  {
   "cell_type": "markdown",
   "metadata": {},
   "source": [
    "Let's do the same for $Y$:"
   ]
  },
  {
   "cell_type": "code",
   "execution_count": 22,
   "metadata": {},
   "outputs": [
    {
     "name": "stdout",
     "output_type": "stream",
     "text": [
      "pmf of just Y: [0.11515387 0.11991004 0.08636773 0.0275508  0.07337711 0.1006592\n",
      " 0.13945104 0.09872863 0.14949879 0.0893028 ]\n",
      "E[Y] = 4.70\n",
      "V[Y] = 8.98\n"
     ]
    }
   ],
   "source": [
    "p_y = np.sum(A, axis=0)\n",
    "print('pmf of just Y:', p_y)\n",
    "E_Y = np.sum(np.arange(10) * p_y)\n",
    "print('E[Y] = {0:1.2f}'.format(E_Y))\n",
    "E_Y2 = np.sum(np.arange(10) ** 2 * p_y)\n",
    "V_Y = E_Y2 - E_Y ** 2\n",
    "print('V[Y] = {0:1.2f}'.format(V_Y))"
   ]
  },
  {
   "cell_type": "markdown",
   "metadata": {},
   "source": [
    "Alright, we have found all the individual statistics.\n",
    "Let's now find the covariance of the two random variables.\n",
    "Remember the formula:\n",
    "$$\n",
    "\\mathbb{C}[X,Y] = \\sum_{x,y} (x-\\mathbb{E}[X])(y-\\mathbb{E}[Y])p(x,y).\n",
    "$$\n",
    "Here we go:"
   ]
  },
  {
   "cell_type": "code",
   "execution_count": 23,
   "metadata": {},
   "outputs": [
    {
     "name": "stdout",
     "output_type": "stream",
     "text": [
      "C[X, Y] = -0.38\n"
     ]
    }
   ],
   "source": [
    "# We will loop over all the possible values\n",
    "C_XY = 0.0 # Keeping track of the sum\n",
    "for x in range(5):\n",
    "    for y in range(10):\n",
    "        C_XY += (x - E_X) * (y - E_Y) * A[x, y] # the += means add to the left hand side\n",
    "print('C[X, Y] = {0:1.2f}'.format(C_XY))"
   ]
  },
  {
   "cell_type": "markdown",
   "metadata": {},
   "source": [
    "We see that $X$ and $Y$ are negatively correlated.\n",
    "If only we could sample from them to visualize it...\n",
    "How can we do this? We cannot just sample $X$ and then $Y$ without thinking about it.\n",
    "We need to sample $X$ and $Y$ together.\n",
    "Basically, we need to sample a set of index $(i,j)$ with probability $A_{ij}$.\n",
    "This is like sampling from a categorical with $5\\times 10 = 50$ different labels $c_0 = (1,1), c_1 = (1,2), \\dots, c_{49} = (5, 10)$ each with a probability $A_{00}, A_{01}, \\dots, A_{4,9}$.\n",
    "So, let's define this categorical.\n",
    "The categorical will sample a label $c_k$ and then we will turn this label to $i$ and $j$ by:\n",
    "$$\n",
    "i = \\lfloor k / 10 \\rfloor,\n",
    "$$\n",
    "where $\\lfloor \\cdot \\rfloor$ stands for the integer part, and\n",
    "$$\n",
    "j = k \\mod 10,\n",
    "$$\n",
    "where $\\mod 10$ gives the remainder of the division by $10$."
   ]
  },
  {
   "cell_type": "code",
   "execution_count": 24,
   "metadata": {},
   "outputs": [],
   "source": [
    "import scipy.stats as st\n",
    "\n",
    "XY = st.rv_discrete('Joinnt XY', values=(range(50), A.flatten())) # A.flatten() is the matrix flattened out as a row\n",
    "\n",
    "# Let's now right a function that samples X and Y using a sample from XY\n",
    "def sample_X_and_Y():\n",
    "    \"\"\"\n",
    "    Samples X and Y once. \n",
    "    \"\"\"\n",
    "    k = XY.rvs()\n",
    "    i = k // 10 # This is integer division\n",
    "    j = k % 10  # This is the remainder\n",
    "    return i, j"
   ]
  },
  {
   "cell_type": "code",
   "execution_count": 25,
   "metadata": {},
   "outputs": [
    {
     "name": "stdout",
     "output_type": "stream",
     "text": [
      "x = 2, y = 2\n",
      "x = 0, y = 0\n",
      "x = 3, y = 3\n",
      "x = 4, y = 4\n",
      "x = 2, y = 2\n",
      "x = 0, y = 0\n",
      "x = 2, y = 2\n",
      "x = 1, y = 1\n",
      "x = 4, y = 4\n",
      "x = 4, y = 4\n"
     ]
    }
   ],
   "source": [
    "# Let's try it out - take 10 samples\n",
    "for n in range(10):\n",
    "    x, y = sample_X_and_Y()\n",
    "    print('x = {0:d}, y = {0:d}'.format(x, y))"
   ]
  },
  {
   "cell_type": "markdown",
   "metadata": {},
   "source": [
    "Alright, let's now collect all these samples we take so that we can visualize them:"
   ]
  },
  {
   "cell_type": "code",
   "execution_count": 27,
   "metadata": {},
   "outputs": [],
   "source": [
    "num_samples = 20\n",
    "x_samples = np.ndarray((num_samples,), dtype=int) # An 1D array of integers to be filled in with samples\n",
    "y_samples = np.ndarray((num_samples,), dtype=int)\n",
    "for n in range(num_samples):\n",
    "    x, y = sample_X_and_Y()\n",
    "    x_samples[n]= x\n",
    "    y_samples[n] = y"
   ]
  },
  {
   "cell_type": "code",
   "execution_count": 28,
   "metadata": {},
   "outputs": [
    {
     "data": {
      "text/plain": [
       "<matplotlib.collections.PathCollection at 0x7febe0019650>"
      ]
     },
     "execution_count": 28,
     "metadata": {},
     "output_type": "execute_result"
    },
    {
     "data": {
      "image/png": "[encoded data removed]",
      "text/plain": [
       "<Figure size 900x600 with 1 Axes>"
      ]
     },
     "metadata": {
      "needs_background": "light"
     },
     "output_type": "display_data"
    }
   ],
   "source": [
    "# Ok, now let's do a scatter plot\n",
    "fig, ax = plt.subplots(dpi=150)\n",
    "ax.scatter(x_samples, y_samples)"
   ]
  },
  {
   "cell_type": "markdown",
   "metadata": {},
   "source": [
    "## Questions\n",
    "\n",
    "+ Write code that finds the variance of $X+Y$.\n",
    "+ Modify your code to find the variance of $3X + 5Y$.\n",
    "+ Write code that finds the expectation of the function $f(X,Y) = XY^3$."
   ]
  },
  {
   "cell_type": "code",
   "execution_count": 69,
   "metadata": {},
   "outputs": [
    {
     "name": "stdout",
     "output_type": "stream",
     "text": [
      "V[X+Y] = 10.112035570510258\n",
      "V[3X+5Y] = 230.08862127252178\n"
     ]
    }
   ],
   "source": [
    "V_XpY=V_X+V_Y+2*C_XY\n",
    "print(f\"V[X+Y] = {V_XpY}\")\n",
    "V_3Xp5Y=9*V_X+25*V_Y+30*C_XY\n",
    "print(f\"V[3X+5Y] = {V_3Xp5Y}\")"
   ]
  },
  {
   "cell_type": "code",
   "execution_count": 55,
   "metadata": {},
   "outputs": [],
   "source": [
    "xs = np.arange(5)\n",
    "ys = np.arange(10)\n",
    "fmat = np.empty((5,10))\n",
    "for i in range(5):\n",
    "    for j in range(10):\n",
    "        fmat[i,j] = xs[i]*ys[j]**3"
   ]
  },
  {
   "cell_type": "code",
   "execution_count": 77,
   "metadata": {},
   "outputs": [
    {
     "name": "stdout",
     "output_type": "stream",
     "text": [
      "E[XY^3]=392.0162902900521\n"
     ]
    }
   ],
   "source": [
    "E_xy3=np.sum(fmat*Anorm)\n",
    "print(f\"E[XY^3]={E_xy3}\")"
   ]
  }
 ],
 "metadata": {
  "kernelspec": {
   "display_name": "Python 3 (ipykernel)",
   "language": "python",
   "name": "python3"
  },
  "language_info": {
   "codemirror_mode": {
    "name": "ipython",
    "version": 3
   },
   "file_extension": ".py",
   "mimetype": "text/x-python",
   "name": "python",
   "nbconvert_exporter": "python",
   "pygments_lexer": "ipython3",
   "version": "3.7.6"
  }
 },
 "nbformat": 4,
 "nbformat_minor": 4
}
