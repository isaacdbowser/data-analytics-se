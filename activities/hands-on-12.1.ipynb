{
 "cells": [
  {
   "cell_type": "code",
   "execution_count": 1,
   "metadata": {},
   "outputs": [],
   "source": [
    "# Import some basic libraries\n",
    "import numpy as np\n",
    "import matplotlib.pyplot as plt\n",
    "%matplotlib inline\n",
    "import seaborn as sns\n",
    "sns.set_context('paper')"
   ]
  },
  {
   "cell_type": "markdown",
   "metadata": {},
   "source": [
    "# Hands-on Activity 12.1: Bayesian Parameter Estimation\n",
    "\n",
    "## Objective\n",
    "+ Introduce Bayesian parameter estimation via an analytical example"
   ]
  },
  {
   "cell_type": "markdown",
   "metadata": {},
   "source": [
    "## Example: Inferring the probability of a coin toss from data\n",
    "\n",
    "A coin with unknown probability of heads $\\theta$ is tossed $N$ times independently and you observe the result:\n",
    "$$\n",
    "x_{1:N} := (x_1,\\dots,x_N).\n",
    "$$\n",
    "Assume that we have coded the result so that heads corresponds to a \"0\" and tails to a \"1.\"\n",
    "Our goal is to estimate the probability of heads $\\theta$ from this dataset.\n",
    "\n",
    "Assuming that we know nothing, we set:\n",
    "$$\n",
    "\\theta \\sim U([0,1]).\n",
    "$$\n",
    "In terms of probability densities this:\n",
    "$$\n",
    "p(\\theta) = \n",
    "\\begin{cases}\n",
    "1,&\\;\\text{if}\\;\\theta\\in [0,1],\\\\\n",
    "0,&\\;\\text{otherwise}\n",
    "\\end{cases} =\n",
    "1_{[0,1]}(\\theta),\n",
    "$$\n",
    "where we used the indicator function to simplify the notation.\n",
    "\n",
    "Now, let's write down the likelihood of the data.\n",
    "Because of the independence assumption, we have:\n",
    "$$\n",
    "p(x_{1:N}|\\theta) = \\prod_{n=1}^Np(x_n|\\theta).\n",
    "$$\n",
    "Then, each measurement is a Bernoulli with probability of success $\\theta$, i.e.,\n",
    "$$\n",
    "x_n | \\theta \\sim \\operatorname{Bernoulli}(\\theta).\n",
    "$$\n",
    "In terms of probability densities, we have:\n",
    "$$\n",
    "p(x_n|\\theta)\n",
    "= \\begin{cases}\n",
    "\\theta,&\\;\\text{if}\\;x_n=0,\\\\\n",
    "1-\\theta,&\\;\\text{otherwise}.\n",
    "\\end{cases}\n",
    "$$\n",
    "Using a common mathematical trick, we can rewrite this as:\n",
    "$$\n",
    "p(x_n|\\theta) = \\theta^{x_n}(1-\\theta)^{1-x_n}.\n",
    "$$\n",
    "Work out the cases $x_n=0$ and $x_n=1$ to convience yourself.\n",
    "\n",
    "Now we can find the expression for the likelihood of the entire dataset.\n",
    "It is\n",
    "$$\n",
    "\\begin{split}\n",
    "p(x_{1:N}|\\theta) &=& \\prod_{n=1}^Np(x_n|\\theta)\\\\\n",
    "&=& \\prod_{n=1}^N\\theta^{x_n}(1-\\theta)^{1-x_n}\\\\\n",
    "&=& \\theta^{\\sum_{n=1}^Nx_n}(1-\\theta)^{N-\\sum_{n=1}^N}.\n",
    "\\end{split}\n",
    "$$\n",
    "This has the intuitive meaning that it is the probability of getting $\\sum_{n=1}^Nx_n$ heads and the rest $N-\\sum_{n=1}^Nx_n$ tails.\n",
    "\n",
    "We can now find the posterior.\n",
    "It is:\n",
    "$$\n",
    "\\text{posterior} \\propto \\text{likelihood}\\times\\text{prior}.\n",
    "$$\n",
    "In our problem:\n",
    "$$\n",
    "\\begin{split}\n",
    "p(\\theta|x_{1:N}) &\\propto& p(x_{1:N}|\\theta)p(\\theta)\\\\\n",
    "&=& \\theta^{\\sum_{n=1}^Nx_n}(1-\\theta)^{N-\\sum_{n=1}^N} 1_{[0,1]}(\\theta)\\\\\n",
    "&=& \\begin{cases}\n",
    "\\theta^{\\sum_{n=1}^Nx_n}(1-\\theta)^{N-\\sum_{n=1}^N},&\\;\\text{if}\\;\\theta\\in[0,1]\\\\\n",
    "0,&\\;\\text{otherwise}.\n",
    "\\end{cases}\n",
    "\\end{split}\n",
    "$$\n",
    "And this is just the density corresponding to a [Beta distribution](https://en.wikipedia.org/wiki/Beta_distribution):\n",
    "$$\n",
    "p(\\theta|x_{1:N}) = \\operatorname{Beta}\\left(\\theta\\middle|1 + \\sum_{n=1}^Nx_n, 1 + N - \\sum_{n=1}^Nx_n\\right).\n",
    "$$\n",
    "Let's try this out with some fake data."
   ]
  },
  {
   "cell_type": "code",
   "execution_count": 21,
   "metadata": {},
   "outputs": [
    {
     "data": {
      "text/plain": [
       "<matplotlib.legend.Legend at 0x7fef83c8cd90>"
      ]
     },
     "execution_count": 21,
     "metadata": {},
     "output_type": "execute_result"
    },
    {
     "data": {
      "image/png": "[encoded data removed]",
      "text/plain": [
       "<Figure size 900x600 with 1 Axes>"
      ]
     },
     "metadata": {
      "needs_background": "light"
     },
     "output_type": "display_data"
    }
   ],
   "source": [
    "import scipy.stats as st\n",
    "# Take a fake coin which is a little bit biased\n",
    "theta_true = 0.8\n",
    "# This is the random variable corresponding to a coin toss\n",
    "X = st.bernoulli(theta_true)\n",
    "\n",
    "# Sample from it a number of times to generate our data = (x1, ..., xN)\n",
    "N = 1000\n",
    "data = X.rvs(size=N)\n",
    "# Now we are ready to calculate the posterior which the Beta we have above\n",
    "alpha = 1.0 + data.sum()\n",
    "beta = 1.0 + N - data.sum()\n",
    "Theta_post = st.beta(alpha, beta)\n",
    "# Now we can plot the posterior PDF for theta\n",
    "fig, ax = plt.subplots(dpi=150)\n",
    "thetas = np.linspace(0, 1, 100)\n",
    "ax.plot([theta_true], [0.0], 'x', markeredgewidth=2, markersize=5, label='True value')\n",
    "ax.plot(thetas, Theta_post.pdf(thetas), label=r'$p(\\theta|x_{1:N})$')\n",
    "ax.set_xlabel(r'$\\theta$')\n",
    "ax.set_ylabel('Probability density')\n",
    "ax.set_title('$N={0:d}$'.format(N))\n",
    "plt.legend(loc='best')"
   ]
  },
  {
   "cell_type": "markdown",
   "metadata": {},
   "source": [
    "## Questions\n",
    "\n",
    "+ Try $N=0,5,10,100$ and see what happens."
   ]
  }
 ],
 "metadata": {
  "kernelspec": {
   "display_name": "Python 3 (ipykernel)",
   "language": "python",
   "name": "python3"
  },
  "language_info": {
   "codemirror_mode": {
    "name": "ipython",
    "version": 3
   },
   "file_extension": ".py",
   "mimetype": "text/x-python",
   "name": "python",
   "nbconvert_exporter": "python",
   "pygments_lexer": "ipython3",
   "version": "3.7.6"
  }
 },
 "nbformat": 4,
 "nbformat_minor": 4
}
