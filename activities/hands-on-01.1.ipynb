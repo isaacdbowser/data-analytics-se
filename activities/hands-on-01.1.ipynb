{
 "cells": [
  {
   "cell_type": "code",
   "execution_count": null,
   "metadata": {},
   "outputs": [],
   "source": [
    "# Import some basic libraries\n",
    "import numpy as np\n",
    "import matplotlib.pyplot as plt\n",
    "%matplotlib inline\n",
    "import seaborn as sns\n",
    "sns.set_context('paper')"
   ]
  },
  {
   "cell_type": "markdown",
   "metadata": {},
   "source": [
    "# Hands-On Activity 1.1: The Uncertainty Propagation Problem\n",
    "\n",
    "## Theoretical Objectives\n",
    "\n",
    "+ To introduce the uncertainty propagation problem.\n",
    "\n",
    "## Example: Driving a trailer on a rough road\n",
    "\n",
    "The following example is modified from Purdue's Basic Mechanics II Lecture Book.\n",
    "In the figure you see a trailer of mass $m$ moving on a rough road with speed $v$.\n",
    "The suspension spring constant is $k$.\n",
    "We are intersted in the vibration amplitude $X$.\n",
    "\n",
    "![Trailer](trailer.png)\n",
    "\n",
    "We do not know (yet) how we can model a true road, so let us assume that the road surface is sinusoidal with amplitude $y_0$ and \"wavelength\" $L$.\n",
    "Doing a [little bit dynamics](https://www.youtube.com/watch?v=d4OKBqr_aYQ&feature=youtu.be), shows that the amplitude of the suspension oscilation is:\n",
    "$$\n",
    "X = \\left|\\frac{ky_0}{k-m\\omega^2}\\right|,\n",
    "$$\n",
    "where the angular velocity is:\n",
    "$$\n",
    "\\omega = \\frac{2\\pi v}{L}.\n",
    "$$\n",
    "Let's draw the causal graph:"
   ]
  },
  {
   "cell_type": "code",
   "execution_count": null,
   "metadata": {},
   "outputs": [],
   "source": [
    "from graphviz import Digraph\n",
    "g = Digraph('Trailer')\n",
    "g.node('k')\n",
    "g.node('m')\n",
    "g.node('y0', label='<y<sub>0</sub>>')\n",
    "g.node('omega', label='<&omega;>')\n",
    "g.node('v')\n",
    "g.node('L')\n",
    "g.node('X')\n",
    "g.edge('v', 'omega')\n",
    "g.edge('L', 'omega')\n",
    "g.edge('y0', 'X')\n",
    "g.edge('omega', 'X')\n",
    "g.edge('k', 'X')\n",
    "g.edge('m', 'X')\n",
    "#g.render('trailer_g', format='png')\n",
    "g"
   ]
  },
  {
   "cell_type": "markdown",
   "metadata": {},
   "source": [
    "### Questions\n",
    "\n",
    "+ Which variables could be \"known unknowns?\"\n",
    "    - v is a known unknown\n",
    "+ Which of these are aleatory and which epistemic?\n",
    "+ How can you reduce the epistemic uncertainty of some of these variables?\n",
    "+ What are some \"unkown unknowns\" that you could turn into \"known unknowns?\""
   ]
  },
  {
   "cell_type": "markdown",
   "metadata": {},
   "source": [
    "## The uncertainty propagation problem\n",
    "\n",
    "As we mentioned earlier, both aleatory and epistemic uncertainties can be described using probability theory.\n",
    "So, one of the first steps of predictive modeling is to come up with probability statementes for all uncertain variables.\n",
    "However, this is also one of the most difficult problems...\n",
    "So, let's assume that some has already done it for us.\n",
    "The next step is to propagate this uncertainty through the causal model to characterize our uncertainty about a quantity of interest.\n",
    "Let us do both using the trailer example.\n",
    "\n",
    "### Solving uncertainty propagation problems\n",
    "\n",
    "The simplest way to solve the uncertainty propagation problem is via sampling.\n",
    "This is known as the *Monte Carlo* method. \n",
    "It was invented in Los Alamos during the Manhatan project.\n",
    "We will study the Monte Carlo method extensively.\n",
    "For now, let's look at a simple example.\n",
    "\n",
    "### Example: Driving a trailer on a rough road (continued)\n",
    "\n",
    "To make this more precise, assume that we are the manufacturer of the trailer.\n",
    "Let's quantify our state of knowledge about all the parameters of this model using a little bit of common sense.\n",
    "\n",
    "| Variable | Type | Values| \n",
    "|:---------|:--------------|:--------|\n",
    "| $k$ | Manufacturing uncertainty | [159,999, 160,001] N/m |\n",
    "| $v$ | Operating condition | [80, 150] km/hour |\n",
    "| $m$ | Loading condition | [100, 200] kg|\n",
    "| $y_0$ | Road condition | [0, 100] mm|\n",
    "| $L$ | Road condition | [1, 2] m |\n",
    "\n",
    "Not being able to come up with more precise information (or any data) we would consider any value within this intervals as equally likely.\n",
    "Now, let's write some code to see how this uncertainty affects the angular velocity $\\omega$ and the amplitude $X$."
   ]
  },
  {
   "cell_type": "code",
   "execution_count": null,
   "metadata": {},
   "outputs": [],
   "source": [
    "# The number of samples we wish to take\n",
    "num_samples = 1000\n",
    "# Two arrays in which to store the samples we take\n",
    "Xs = np.ndarray((num_samples, )) # To store the samples\n",
    "omegas = np.ndarray((num_samples, ))\n",
    "for i in range(num_samples):\n",
    "    k = 160000.0 + np.random.rand() # np.random.rand() samples a number uniformly between 0 and 1\n",
    "    m = 100.0 + (200.0 - 100.0) * np.random.rand() # Here we sample a random number in [100, 200]\n",
    "    y0 = 100 * np.random.rand() * 1e-3 # Turning it to m\n",
    "    v = (80.0 + (150.0 - 80.0) * np.random.rand()) * 1e3 / 3600.0 # Turning it to m/s\n",
    "    lam = 1.0 + (2.0 - 1.0) * np.random.rand()\n",
    "    omega = 2.0 * np.pi * v / lam\n",
    "    X = np.abs(k * y0 / (k - m * omega ** 2))\n",
    "    omegas[i] = omega\n",
    "    Xs[i] = X"
   ]
  },
  {
   "cell_type": "code",
   "execution_count": null,
   "metadata": {},
   "outputs": [],
   "source": [
    "# Plot the angular velocity\n",
    "fig, ax = plt.subplots(dpi=150)\n",
    "ax.hist(omegas, bins=10, alpha=0.5, density=True)\n",
    "ax.set_xlabel('$\\omega$ (Angular velocity)')\n",
    "ax.set_ylabel('$p(\\omega)$ (Probability density of ang. vel.)')\n",
    "\n",
    "# Plot the amplitude\n",
    "fig, ax = plt.subplots(dpi=150)\n",
    "ax.hist(Xs, bins=10, alpha=0.5, density=True)\n",
    "ax.set_xlabel('$X$ (Amplitude)')\n",
    "ax.set_ylabel('$p(X)$ (Probability density of amplitude)');"
   ]
  },
  {
   "cell_type": "markdown",
   "metadata": {},
   "source": [
    "### Questions\n",
    "+ What does the probability density in the figures above represent? Is the uncertainty aleatory or epistemic?\n",
    "+ Rerun the code above giving different values to ``num_samples``. Can you trust the results when you pick small values? How can you pick the right value for ``num_samples``?"
   ]
  }
 ],
 "metadata": {
  "kernelspec": {
   "display_name": "Python 3",
   "language": "python",
   "name": "python3"
  },
  "language_info": {
   "codemirror_mode": {
    "name": "ipython",
    "version": 3
   },
   "file_extension": ".py",
   "mimetype": "text/x-python",
   "name": "python",
   "nbconvert_exporter": "python",
   "pygments_lexer": "ipython3",
   "version": "3.7.6"
  }
 },
 "nbformat": 4,
 "nbformat_minor": 4
}
