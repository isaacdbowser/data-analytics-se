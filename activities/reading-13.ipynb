{
 "cells": [
  {
   "cell_type": "markdown",
   "metadata": {},
   "source": [
    "# Reading Activity 13 - Linear Regression via Least Squares\n",
    "\n",
    "## Objectives\n",
    "\n",
    "+ To introduce the concept of supervised learning\n",
    "\n",
    "## Supervised learning\n",
    "\n",
    "Say that you observe $n$, $d$-dimensional, *inputs*:\n",
    "$$\n",
    "\\mathbf{x}_{1:n} = \\{\\mathbf{x}_1,\\dots,\\mathbf{x}_n\\},\n",
    "$$\n",
    "and *outputs*:\n",
    "$$\n",
    "\\mathbf{y}_{1:n} = \\{y_1,\\dots,y_n\\}.\n",
    "$$\n",
    "The supervised learning problem consits of using the data $\\mathbf{x}_{1:n}$ and $\\mathbf{y}_{1:n}$ to find\n",
    "the map that connects the inputs to the outputs.\n",
    "\n",
    "The inputs $\\mathbf{x}$ are also called *features*.\n",
    "\n",
    "The outputs $\\mathbf{y}$ are also called *targets*.\n",
    "\n",
    "### The regression problem\n",
    "\n",
    "When the outputs are continuous variables, e.g., dollars, weight, mass, then we say that we have a *regression* problem.\n",
    "\n",
    "### The classification problem\n",
    "\n",
    "When the outputs are discrete labels, e.g., 0 or 1, \"cat\" or \"dog\", then we say that we have a *classification* problem."
   ]
  }
 ],
 "metadata": {
  "kernelspec": {
   "display_name": "Python 3 (ipykernel)",
   "language": "python",
   "name": "python3"
  },
  "language_info": {
   "codemirror_mode": {
    "name": "ipython",
    "version": 3
   },
   "file_extension": ".py",
   "mimetype": "text/x-python",
   "name": "python",
   "nbconvert_exporter": "python",
   "pygments_lexer": "ipython3",
   "version": "3.7.6"
  }
 },
 "nbformat": 4,
 "nbformat_minor": 4
}
