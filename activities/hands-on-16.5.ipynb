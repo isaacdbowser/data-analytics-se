{
 "cells": [
  {
   "cell_type": "code",
   "execution_count": null,
   "metadata": {},
   "outputs": [],
   "source": [
    "# Import some basic libraries\n",
    "import numpy as np\n",
    "import matplotlib.pyplot as plt\n",
    "%matplotlib inline\n",
    "import seaborn as sns\n",
    "sns.set_context('paper')"
   ]
  },
  {
   "cell_type": "markdown",
   "metadata": {},
   "source": [
    "# Hands-on Activity 16.5: Multi-class logistic regression\n",
    "\n",
    "## Objectives\n",
    "\n",
    "+ To demonstrate multi-class logistic regression\n",
    "\n",
    "## Handwritten Digits\n",
    "\n",
    "We will demonstrate multi-class logistic regression using a handwritten digits dataset.\n",
    "The data are in scikit-learn and our example follows very closely [this example](https://scikit-learn.org/stable/auto_examples/classification/plot_digits_classification.html).\n",
    "\n",
    "First, let's load the dataset."
   ]
  },
  {
   "cell_type": "code",
   "execution_count": null,
   "metadata": {},
   "outputs": [],
   "source": [
    "from sklearn import datasets\n",
    "# Get the data\n",
    "digits = datasets.load_digits()\n",
    "# Here are the description of the dataset:\n",
    "print(digits.DESCR)"
   ]
  },
  {
   "cell_type": "markdown",
   "metadata": {},
   "source": [
    "The images are in a 3D array:"
   ]
  },
  {
   "cell_type": "code",
   "execution_count": null,
   "metadata": {},
   "outputs": [],
   "source": [
    "print(digits.images.shape)"
   ]
  },
  {
   "cell_type": "markdown",
   "metadata": {},
   "source": [
    "Each row of this array is an 8x8 image (which is just a matrix).\n",
    "Here is the first image as just numbers:"
   ]
  },
  {
   "cell_type": "code",
   "execution_count": null,
   "metadata": {},
   "outputs": [],
   "source": [
    "print(digits.images[0])"
   ]
  },
  {
   "cell_type": "markdown",
   "metadata": {},
   "source": [
    "These numbers correspond to the darkness of each pixel. The greater the value the darker the pixel.\n",
    "Here is how we can visualie the first image:"
   ]
  },
  {
   "cell_type": "code",
   "execution_count": null,
   "metadata": {},
   "outputs": [],
   "source": [
    "fig, ax = plt.subplots(dpi=150)\n",
    "ax.imshow(digits.images[0], cmap=plt.cm.gray_r, interpolation='nearest');"
   ]
  },
  {
   "cell_type": "markdown",
   "metadata": {},
   "source": [
    "That's clearly a 0. Now each one of the images comes we predetermined labels that we can use to train models.\n",
    "Here is where you can find the labels:"
   ]
  },
  {
   "cell_type": "code",
   "execution_count": null,
   "metadata": {},
   "outputs": [],
   "source": [
    "print(digits.target)"
   ]
  },
  {
   "cell_type": "markdown",
   "metadata": {},
   "source": [
    "and notice that the first label is a 0, which is great.\n",
    "Let's now plot several images just to gain some intuition about them:"
   ]
  },
  {
   "cell_type": "code",
   "execution_count": null,
   "metadata": {},
   "outputs": [],
   "source": [
    "_, axes = plt.subplots(4, 4)\n",
    "images_and_labels = list(zip(digits.images, digits.target))\n",
    "for ax, (image, label) in zip(axes.flatten(), images_and_labels[:16]):\n",
    "    ax.set_axis_off()\n",
    "    ax.imshow(image, cmap=plt.cm.gray_r, interpolation='nearest')\n",
    "    ax.set_title('Training: %i' % label)"
   ]
  },
  {
   "cell_type": "markdown",
   "metadata": {},
   "source": [
    "We are going to apply the multi-class logistic regression classifier with 64 linear features, one per pixel.\n",
    "This assumes that the images are vectorized.\n",
    "That is, we turn them from $8\\times 8$ matrices to $64$-dimensional arrays.\n",
    "Here is how we can do this:"
   ]
  },
  {
   "cell_type": "code",
   "execution_count": null,
   "metadata": {},
   "outputs": [],
   "source": [
    "n_samples = len(digits.images)\n",
    "data = digits.images.reshape((n_samples, -1))\n",
    "print(data.shape)"
   ]
  },
  {
   "cell_type": "markdown",
   "metadata": {},
   "source": [
    "Let's split the dataset into training and validation sets.\n",
    "We will use the functionality of scikit learn for this:"
   ]
  },
  {
   "cell_type": "code",
   "execution_count": null,
   "metadata": {},
   "outputs": [],
   "source": [
    "from sklearn.model_selection import train_test_split\n",
    "# Here is how the dataset can be split:\n",
    "X_train, X_test, y_train, y_test = train_test_split(\n",
    "    data, digits.target, test_size=0.5, shuffle=True)"
   ]
  },
  {
   "cell_type": "markdown",
   "metadata": {},
   "source": [
    "The model we are going to fit is:\n",
    "$$\n",
    "p(y=k|\\mathbf{x}, \\mathbf{W}) = \\operatorname{softmax}_k\\left(\\mathbf{w}_1^T\\mathbf{x},\\dots,\\mathbf{w}_K^T\\mathbf{x}\\right),\n",
    "$$\n",
    "where $\\mathbf{x}$ is the vectorized version of the image.\n",
    "Let's do it:"
   ]
  },
  {
   "cell_type": "code",
   "execution_count": null,
   "metadata": {},
   "outputs": [],
   "source": [
    "from sklearn.linear_model import LogisticRegression\n",
    "\n",
    "# The classifier object\n",
    "model = LogisticRegression(max_iter=2000, penalty='none', fit_intercept=True)\n",
    "\n",
    "# Fit with the training data:\n",
    "model.fit(X_train, y_train);"
   ]
  },
  {
   "cell_type": "markdown",
   "metadata": {},
   "source": [
    "Here is how you can get the matrix of all weights $\\mathbf{W}$:"
   ]
  },
  {
   "cell_type": "code",
   "execution_count": null,
   "metadata": {},
   "outputs": [],
   "source": [
    "print(model.coef_.shape)"
   ]
  },
  {
   "cell_type": "markdown",
   "metadata": {},
   "source": [
    "Here are point predictions for (picking the label with the highest probability):"
   ]
  },
  {
   "cell_type": "code",
   "execution_count": null,
   "metadata": {},
   "outputs": [],
   "source": [
    "predicted = model.predict(X_test)\n",
    "print('#\\tTrue label\\tPrediction')\n",
    "print('-' * 20)\n",
    "for i in range(10):\n",
    "    print('{0:d}\\t{1:d}\\t\\t{2:d}'.format(i, y_test[i], predicted[i]))"
   ]
  },
  {
   "cell_type": "markdown",
   "metadata": {},
   "source": [
    "But we can also make probabilistic predictions:"
   ]
  },
  {
   "cell_type": "code",
   "execution_count": null,
   "metadata": {},
   "outputs": [],
   "source": [
    "prob_predict = model.predict_proba(X_test)\n",
    "# These can be visualized as bars\n",
    "fig, axes = plt.subplots(10, 2, dpi=150)\n",
    "for i in range(10):\n",
    "    axes[i, 0].imshow(X_test[i].reshape((8, 8)), cmap=plt.cm.gray_r, interpolation='nearest')\n",
    "    axes[i, 0].set_yticks([])\n",
    "    axes[i, 0].set_xticks([])\n",
    "    axes[i, 1].set_xticks([])\n",
    "    axes[i, 1].bar(np.arange(10), prob_predict[i, :])\n",
    "    axes[i, 1].set_yticks([])\n",
    "axes[-1, 1].set_xticks(np.arange(10))\n",
    "axes[-1, 1].set_xticklabels(model.classes_);"
   ]
  },
  {
   "cell_type": "markdown",
   "metadata": {},
   "source": [
    "Scikit-learn has the capability to run many accuracy metrics at once for you.\n",
    "Here is everything including the precision matrix:"
   ]
  },
  {
   "cell_type": "code",
   "execution_count": null,
   "metadata": {},
   "outputs": [],
   "source": [
    "from sklearn import metrics\n",
    "print(\"Classification report for model %s:\\n%s\\n\"\n",
    "      % (model, metrics.classification_report(y_test, predicted)))\n",
    "fig, ax = plt.subplots(dpi=150)\n",
    "disp = metrics.plot_confusion_matrix(classifier, X_test, y_test, ax=ax)\n",
    "disp.figure_.suptitle(\"Confusion Matrix\")\n",
    "print(\"Confusion matrix:\\n%s\" % disp.confusion_matrix)"
   ]
  },
  {
   "cell_type": "markdown",
   "metadata": {},
   "source": [
    "### Questions\n",
    "\n",
    "+ Look at the precision matrix carefully and identify the digits for which the most mistakes are made. Why does this happen? Write code below to visualize some of the wrong predictions."
   ]
  },
  {
   "cell_type": "code",
   "execution_count": null,
   "metadata": {},
   "outputs": [],
   "source": [
    "# Your code below this point"
   ]
  }
 ],
 "metadata": {
  "kernelspec": {
   "display_name": "Python 3 (ipykernel)",
   "language": "python",
   "name": "python3"
  },
  "language_info": {
   "codemirror_mode": {
    "name": "ipython",
    "version": 3
   },
   "file_extension": ".py",
   "mimetype": "text/x-python",
   "name": "python",
   "nbconvert_exporter": "python",
   "pygments_lexer": "ipython3",
   "version": "3.7.6"
  }
 },
 "nbformat": 4,
 "nbformat_minor": 4
}
